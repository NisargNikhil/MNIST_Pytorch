{
  "nbformat": 4,
  "nbformat_minor": 0,
  "metadata": {
    "colab": {
      "name": "MNIST_Pytorch.ipynb",
      "provenance": [],
      "collapsed_sections": []
    },
    "kernelspec": {
      "name": "python3",
      "display_name": "Python 3"
    }
  },
  "cells": [
    {
      "cell_type": "code",
      "metadata": {
        "id": "PzqpIin3WsL1",
        "outputId": "96e2c362-55ee-4c76-c568-9981ef4ecb12",
        "colab": {
          "base_uri": "https://localhost:8080/"
        }
      },
      "source": [
        "!pip3 install torchvision"
      ],
      "execution_count": 1,
      "outputs": [
        {
          "output_type": "stream",
          "text": [
            "Requirement already satisfied: torchvision in /usr/local/lib/python3.6/dist-packages (0.7.0+cu101)\n",
            "Requirement already satisfied: torch==1.6.0 in /usr/local/lib/python3.6/dist-packages (from torchvision) (1.6.0+cu101)\n",
            "Requirement already satisfied: pillow>=4.1.1 in /usr/local/lib/python3.6/dist-packages (from torchvision) (8.0.1)\n",
            "Requirement already satisfied: numpy in /usr/local/lib/python3.6/dist-packages (from torchvision) (1.18.5)\n",
            "Requirement already satisfied: future in /usr/local/lib/python3.6/dist-packages (from torch==1.6.0->torchvision) (0.16.0)\n"
          ],
          "name": "stdout"
        }
      ]
    },
    {
      "cell_type": "code",
      "metadata": {
        "id": "B4aft5JOqiNC"
      },
      "source": [
        "import torch\n",
        "import torch.nn.functional as F\n",
        "import matplotlib.pyplot as plt\n",
        "import numpy as np\n",
        "from torchvision import datasets, transforms"
      ],
      "execution_count": 2,
      "outputs": []
    },
    {
      "cell_type": "code",
      "metadata": {
        "id": "0HKSWNUVq-Gu"
      },
      "source": [
        "transform = transforms.Compose([transforms.Resize((28,28)),\n",
        "                               transforms.ToTensor(),\n",
        "                               transforms.Normalize((0.5,),(0.5,))\n",
        "                              ])\n",
        "training_datasets = datasets.MNIST(root = './data', train = True,download = True, transform = transform)\n",
        "validation_datasets = datasets.MNIST(root = './data', train = False,download = True, transform = transform)\n",
        "train_loader = torch.utils.data.DataLoader(dataset=training_datasets,batch_size = 100,shuffle = True)\n",
        "validation_loader = torch.utils.data.DataLoader(dataset=validation_datasets,batch_size = 100,shuffle = False)"
      ],
      "execution_count": 3,
      "outputs": []
    },
    {
      "cell_type": "code",
      "metadata": {
        "id": "RD80Vc_1tpts",
        "outputId": "3e586713-471c-4b9f-8c76-ab1e201f2f39",
        "colab": {
          "base_uri": "https://localhost:8080/"
        }
      },
      "source": [
        "training_datasets"
      ],
      "execution_count": 4,
      "outputs": [
        {
          "output_type": "execute_result",
          "data": {
            "text/plain": [
              "Dataset MNIST\n",
              "    Number of datapoints: 60000\n",
              "    Root location: ./data\n",
              "    Split: Train\n",
              "    StandardTransform\n",
              "Transform: Compose(\n",
              "               Resize(size=(28, 28), interpolation=PIL.Image.BILINEAR)\n",
              "               ToTensor()\n",
              "               Normalize(mean=(0.5,), std=(0.5,))\n",
              "           )"
            ]
          },
          "metadata": {
            "tags": []
          },
          "execution_count": 4
        }
      ]
    },
    {
      "cell_type": "code",
      "metadata": {
        "id": "hZ9VKiDGt2ox"
      },
      "source": [
        "def im_convert(tensor):\n",
        "  image = tensor.clone().detach().numpy()\n",
        "  image = image.transpose(1,2,0)\n",
        "  print(image.shape)\n",
        "  image = image.squeeze()\n",
        "  image = image.clip(0,1)\n",
        "  return image"
      ],
      "execution_count": 5,
      "outputs": []
    },
    {
      "cell_type": "code",
      "metadata": {
        "id": "7jHkOSZTGaOg",
        "outputId": "3e458ef2-8050-4a33-d0c1-c2fe87fab8d3",
        "colab": {
          "base_uri": "https://localhost:8080/",
          "height": 590
        }
      },
      "source": [
        "dataiter = iter(train_loader)\n",
        "images, labels = dataiter.next()\n",
        "fig = plt.figure(figsize=(25,4))\n",
        "\n",
        "for i in np.arange(20):\n",
        "  ax = fig.add_subplot(2,10,i+1)\n",
        "  plt.imshow(im_convert(images[i]))\n",
        "  ax.set_title([labels[i].item()])\n"
      ],
      "execution_count": 6,
      "outputs": [
        {
          "output_type": "stream",
          "text": [
            "(28, 28, 1)\n",
            "(28, 28, 1)\n",
            "(28, 28, 1)\n",
            "(28, 28, 1)\n",
            "(28, 28, 1)\n",
            "(28, 28, 1)\n",
            "(28, 28, 1)\n",
            "(28, 28, 1)\n",
            "(28, 28, 1)\n",
            "(28, 28, 1)\n",
            "(28, 28, 1)\n",
            "(28, 28, 1)\n",
            "(28, 28, 1)\n",
            "(28, 28, 1)\n",
            "(28, 28, 1)\n",
            "(28, 28, 1)\n",
            "(28, 28, 1)\n",
            "(28, 28, 1)\n",
            "(28, 28, 1)\n",
            "(28, 28, 1)\n"
          ],
          "name": "stdout"
        },
        {
          "output_type": "display_data",
          "data": {
            "image/png": "[encoded data removed]",
            "text/plain": [
              "<Figure size 1800x288 with 20 Axes>"
            ]
          },
          "metadata": {
            "tags": [],
            "needs_background": "light"
          }
        }
      ]
    },
    {
      "cell_type": "code",
      "metadata": {
        "id": "vBNF7GXMQF-N"
      },
      "source": [
        "from torch import nn"
      ],
      "execution_count": 7,
      "outputs": []
    },
    {
      "cell_type": "code",
      "metadata": {
        "id": "VFgwyRn-IlW5"
      },
      "source": [
        "class Classifier(nn.Module):\n",
        "  def __init__(self,d_in,h1,h2,d_out):\n",
        "    super().__init__()\n",
        "    self.linear1 = nn.Linear(d_in,h1)\n",
        "    self.linear2 = nn.Linear(h1,h2)\n",
        "    self.linear3 = nn.Linear(h2,d_out)\n",
        "  def forward(self,x):\n",
        "    x = F.relu(self.linear1(x))\n",
        "    x = F.relu(self.linear2(x))\n",
        "    x = self.linear3(x)\n",
        "    return x  \n",
        "\n"
      ],
      "execution_count": 8,
      "outputs": []
    },
    {
      "cell_type": "code",
      "metadata": {
        "id": "ciVzqwoBRx78"
      },
      "source": [
        "model = Classifier(784,128,64,10)"
      ],
      "execution_count": 9,
      "outputs": []
    },
    {
      "cell_type": "code",
      "metadata": {
        "id": "wGjyv58rR3Qj",
        "outputId": "9ac448d2-01b5-47be-a722-09f5359016ff",
        "colab": {
          "base_uri": "https://localhost:8080/"
        }
      },
      "source": [
        "model.parameters()"
      ],
      "execution_count": 10,
      "outputs": [
        {
          "output_type": "execute_result",
          "data": {
            "text/plain": [
              "<generator object Module.parameters at 0x7fdc6f42ae08>"
            ]
          },
          "metadata": {
            "tags": []
          },
          "execution_count": 10
        }
      ]
    },
    {
      "cell_type": "code",
      "metadata": {
        "id": "23xkOGhPR4R8"
      },
      "source": [
        "criterion = nn.CrossEntropyLoss()\n",
        "optimizer = torch.optim.Adam(model.parameters(),lr = 0.0001)"
      ],
      "execution_count": 11,
      "outputs": []
    },
    {
      "cell_type": "code",
      "metadata": {
        "id": "jMDIhl9DXlk0",
        "outputId": "bb3fd40a-a66a-4abf-810f-8848883f6880",
        "colab": {
          "base_uri": "https://localhost:8080/"
        }
      },
      "source": [
        "epochs = 12\n",
        "running_loss_history = []\n",
        "running_correct_history = []\n",
        "validation_running_loss_history = []\n",
        "validation_running_correct_history = []\n",
        "for i in range(epochs):\n",
        "  running_loss = 0.0\n",
        "  running_correct = 0.0\n",
        "  validation_running_loss = 0.0\n",
        "  validation_running_correct = 0.0\n",
        "  for inputs, labels in train_loader:\n",
        "    \n",
        "    inputs = inputs.view(inputs.shape[0],-1)\n",
        "    outputs = model.forward(inputs)\n",
        "    loss = criterion(outputs,labels)\n",
        "    optimizer.zero_grad()\n",
        "    loss.backward()\n",
        "    optimizer.step()\n",
        "    running_loss += loss.item()\n",
        "    _,pred = torch.max(outputs,1)\n",
        "    running_correct += torch.sum(pred == labels.data)\n",
        "  else:\n",
        "    with torch.no_grad():\n",
        "      for val_inputs,val_labels in validation_loader:\n",
        "        val_inputs = val_inputs.view(val_inputs.shape[0],-1)\n",
        "        val_outputs = model.forward(val_inputs)\n",
        "        val_loss = criterion(val_outputs,val_labels)\n",
        "        validation_running_loss += val_loss.item()\n",
        "        _,val_pred = torch.max(val_outputs,1)\n",
        "        validation_running_correct += torch.sum(val_pred == val_labels.data)\n",
        "\n",
        "    epoch_loss = running_loss/len(train_loader)\n",
        "    epoch_accuracy = running_correct.float()/len(train_loader)\n",
        "    running_loss_history.append(epoch_loss)\n",
        "    running_correct_history.append(epoch_accuracy)\n",
        "\n",
        "    val_epoch_loss = validation_running_loss/len(validation_loader)\n",
        "    val_epoch_accuracy = validation_running_correct.float()/len(validation_loader)\n",
        "    validation_running_loss_history.append(val_epoch_loss)\n",
        "    validation_running_correct_history.append(epoch_accuracy)\n",
        "\n",
        "    print('epoch is {}'.format(i))\n",
        "    print('training_loss {:.4f}, training_accuracy {:.4f}'.format(epoch_loss, epoch_accuracy.item()))\n",
        "    print('val_training_loss {:.4f}, val_training_accuracy {:.4f}'.format(val_epoch_loss, val_epoch_accuracy.item()))  \n",
        "\n",
        "  "
      ],
      "execution_count": 12,
      "outputs": [
        {
          "output_type": "stream",
          "text": [
            "epoch is 0\n",
            "training_loss 0.9357, training_accuracy 77.7183\n",
            "val_training_loss 0.4201, val_training_accuracy 88.8500\n",
            "epoch is 1\n",
            "training_loss 0.3785, training_accuracy 89.3600\n",
            "val_training_loss 0.3296, val_training_accuracy 90.5600\n",
            "epoch is 2\n",
            "training_loss 0.3185, training_accuracy 90.8533\n",
            "val_training_loss 0.2920, val_training_accuracy 91.6900\n",
            "epoch is 3\n",
            "training_loss 0.2890, training_accuracy 91.6550\n",
            "val_training_loss 0.2651, val_training_accuracy 92.2200\n",
            "epoch is 4\n",
            "training_loss 0.2668, training_accuracy 92.2650\n",
            "val_training_loss 0.2470, val_training_accuracy 92.8500\n",
            "epoch is 5\n",
            "training_loss 0.2471, training_accuracy 92.8733\n",
            "val_training_loss 0.2381, val_training_accuracy 93.1600\n",
            "epoch is 6\n",
            "training_loss 0.2305, training_accuracy 93.3517\n",
            "val_training_loss 0.2175, val_training_accuracy 93.5800\n",
            "epoch is 7\n",
            "training_loss 0.2145, training_accuracy 93.8650\n",
            "val_training_loss 0.2035, val_training_accuracy 94.0000\n",
            "epoch is 8\n",
            "training_loss 0.1995, training_accuracy 94.2583\n",
            "val_training_loss 0.1952, val_training_accuracy 94.1600\n",
            "epoch is 9\n",
            "training_loss 0.1861, training_accuracy 94.6600\n",
            "val_training_loss 0.1795, val_training_accuracy 94.5800\n",
            "epoch is 10\n",
            "training_loss 0.1743, training_accuracy 94.9967\n",
            "val_training_loss 0.1682, val_training_accuracy 94.8700\n",
            "epoch is 11\n",
            "training_loss 0.1637, training_accuracy 95.3500\n",
            "val_training_loss 0.1639, val_training_accuracy 95.0100\n"
          ],
          "name": "stdout"
        }
      ]
    },
    {
      "cell_type": "code",
      "metadata": {
        "id": "lBGtOfZ12FyB",
        "outputId": "828eba75-0131-4137-d69f-c0f0e82a0888",
        "colab": {
          "base_uri": "https://localhost:8080/",
          "height": 282
        }
      },
      "source": [
        "plt.plot(running_loss_history,label = 'training_loss')\n",
        "plt.plot(validation_running_loss_history,label = 'validation_loss')\n",
        "plt.legend()"
      ],
      "execution_count": 13,
      "outputs": [
        {
          "output_type": "execute_result",
          "data": {
            "text/plain": [
              "<matplotlib.legend.Legend at 0x7fdc6ef9a9e8>"
            ]
          },
          "metadata": {
            "tags": []
          },
          "execution_count": 13
        },
        {
          "output_type": "display_data",
          "data": {
            "image/png": "[encoded data removed]",
            "text/plain": [
              "<Figure size 432x288 with 1 Axes>"
            ]
          },
          "metadata": {
            "tags": [],
            "needs_background": "light"
          }
        }
      ]
    },
    {
      "cell_type": "code",
      "metadata": {
        "id": "887bkyZIKwti",
        "outputId": "1cad84d7-88c1-4cbb-f42b-1018d2f852ac",
        "colab": {
          "base_uri": "https://localhost:8080/",
          "height": 282
        }
      },
      "source": [
        "plt.plot(running_correct_history, label = 'training_accuracy')"
      ],
      "execution_count": 14,
      "outputs": [
        {
          "output_type": "execute_result",
          "data": {
            "text/plain": [
              "[<matplotlib.lines.Line2D at 0x7fdc6ef46f28>]"
            ]
          },
          "metadata": {
            "tags": []
          },
          "execution_count": 14
        },
        {
          "output_type": "display_data",
          "data": {
            "image/png": "[encoded data removed]",
            "text/plain": [
              "<Figure size 432x288 with 1 Axes>"
            ]
          },
          "metadata": {
            "tags": [],
            "needs_background": "light"
          }
        }
      ]
    },
    {
      "cell_type": "code",
      "metadata": {
        "id": "jV9b0s-QL6me",
        "outputId": "63ff27fc-94c8-4dba-f7eb-4c91ecdccc43",
        "colab": {
          "base_uri": "https://localhost:8080/",
          "height": 286
        }
      },
      "source": [
        "import requests\n",
        "from PIL import Image\n",
        "url = \"https://images.homedepot-static.com/productImages/007164ea-d47e-4f66-8d8c-fd9f621984a2/svn/architectural-mailboxes-house-letters-numbers-3585b-5-64_1000.jpg\"\n",
        "response = requests.get(url, stream = True)\n",
        "img = Image.open(response.raw)\n",
        "plt.imshow(img)\n"
      ],
      "execution_count": 15,
      "outputs": [
        {
          "output_type": "execute_result",
          "data": {
            "text/plain": [
              "<matplotlib.image.AxesImage at 0x7fdc6e049c18>"
            ]
          },
          "metadata": {
            "tags": []
          },
          "execution_count": 15
        },
        {
          "output_type": "display_data",
          "data": {
            "image/png": "[encoded data removed]",
            "text/plain": [
              "<Figure size 432x288 with 1 Axes>"
            ]
          },
          "metadata": {
            "tags": [],
            "needs_background": "light"
          }
        }
      ]
    },
    {
      "cell_type": "code",
      "metadata": {
        "id": "z8rbs9Y3y9XX"
      },
      "source": [
        "import PIL.ImageOps\n",
        "from PIL import ImageMath\n"
      ],
      "execution_count": 16,
      "outputs": []
    },
    {
      "cell_type": "code",
      "metadata": {
        "id": "r391KaJxr_md",
        "outputId": "4d63caff-1605-4a8d-e281-e672b261dd40",
        "colab": {
          "base_uri": "https://localhost:8080/",
          "height": 299
        }
      },
      "source": [
        "img = PIL.ImageOps.invert(img.convert('RGB'))\n",
        "img = img.convert('1')\n",
        "img = transform(img)\n",
        "plt.imshow(im_convert(img))"
      ],
      "execution_count": 17,
      "outputs": [
        {
          "output_type": "stream",
          "text": [
            "(28, 28, 1)\n"
          ],
          "name": "stdout"
        },
        {
          "output_type": "execute_result",
          "data": {
            "text/plain": [
              "<matplotlib.image.AxesImage at 0x7fdc6dda5e10>"
            ]
          },
          "metadata": {
            "tags": []
          },
          "execution_count": 17
        },
        {
          "output_type": "display_data",
          "data": {
            "image/png": "[encoded data removed]",
            "text/plain": [
              "<Figure size 432x288 with 1 Axes>"
            ]
          },
          "metadata": {
            "tags": [],
            "needs_background": "light"
          }
        }
      ]
    },
    {
      "cell_type": "code",
      "metadata": {
        "id": "Twf00iNFzYgJ",
        "outputId": "c60fcef3-b75b-4a38-cc9e-9314b7c54dff",
        "colab": {
          "base_uri": "https://localhost:8080/"
        }
      },
      "source": [
        "img = img.view(img.shape[0],-1)\n",
        "output = model.forward(img)\n",
        "_,pred = torch.max(output,1)\n",
        "print(pred.item())"
      ],
      "execution_count": 19,
      "outputs": [
        {
          "output_type": "stream",
          "text": [
            "5\n"
          ],
          "name": "stdout"
        }
      ]
    },
    {
      "cell_type": "code",
      "metadata": {
        "id": "QJhu22z85eCy"
      },
      "source": [
        ""
      ],
      "execution_count": null,
      "outputs": []
    }
  ]
}